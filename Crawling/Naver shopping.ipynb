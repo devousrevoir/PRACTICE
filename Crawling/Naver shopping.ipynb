{
 "cells": [
  {
   "cell_type": "code",
   "execution_count": 1,
   "metadata": {},
   "outputs": [],
   "source": [
    "from selenium import webdriver\n",
    "from selenium.webdriver.common.keys import Keys\n",
    "from bs4 import BeautifulSoup\n",
    "from time import sleep\n",
    "import requests\n",
    "import re\n",
    "import pandas as pd\n",
    "import numpy as np\n",
    "import os\n",
    "import pandas as pd\n",
    "\n",
    "from selenium.webdriver.common.keys import Keys\n",
    "\n",
    "import warnings\n",
    "warnings.filterwarnings('ignore')"
   ]
  },
  {
   "cell_type": "markdown",
   "metadata": {},
   "source": []
  },
  {
   "cell_type": "code",
   "execution_count": 7,
   "metadata": {},
   "outputs": [],
   "source": [
    "name=['LG 에어로타워']\n",
    "category=['별점']\n",
    "\n",
    "#LG 에어로타워 후기\n",
    "ns_address=\"https://search.shopping.naver.com/catalog/30128278618?cat_id=50002543&frm=NVSCPRO&query=%EC%97%90%EC%96%B4%EB%A1%9C%ED%83%80%EC%9B%8C&NaPm=ct%3Dl0ksn0vc%7Cci%3D5bbd25c0299ce5dbcb72ff2b1d41488ebd6d52ce%7Ctr%3Dsls%7Csn%3D95694%7Chk%3D87194ce8ced4cb2b52968022b8eb9db67602d12e\"\n",
    "\n",
    "\n",
    "#xpath\n",
    "#shoppingmall_review =\"/html/body/div/div/div[2]/div[2]/div[2]/div[3]/div[6]/ul\"\n",
    "#shoppingmall_review = \"/html/body/div/div/div[2]/div[2]/div[2]/div[3]/div[2]/div/div[2]/ul/li[5]/a/strong\"\n",
    "shoppingmall_review = \"/html/body/div/div/div[2]/div[2]/div[2]/div[3]/div[6]/div[2]/div[2]/div/ul/li[4]/a\""
   ]
  },
  {
   "cell_type": "code",
   "execution_count": 8,
   "metadata": {},
   "outputs": [
    {
     "name": "stdout",
     "output_type": "stream",
     "text": [
      "가격\n",
      "주제전체\n",
      "만족도\n",
      "디자인\n",
      "가격\n",
      "기능\n",
      "소음\n",
      "성능\n",
      "사용성\n",
      "색상\n",
      "조작성\n",
      "난방효과\n",
      "관리\n",
      "이동성\n"
     ]
    }
   ],
   "source": [
    "header = {'User-Agent': ''}\n",
    "d = webdriver.Chrome('chromedriver.exe') # webdriver = chrome\n",
    "d.implicitly_wait(1) #隐形等待， 加载完后进入， 没加载完报错超市\n",
    "d.get(ns_address)\n",
    "req = requests.get(ns_address,verify=False)\n",
    "html = req.text \n",
    "soup = BeautifulSoup(html, \"html.parser\")\n",
    "sleep(2)\n",
    "\n",
    "#쇼핑몰 리뷰 보기\n",
    "d.find_element(\"xpath\",shoppingmall_review).click()\n",
    "sleep(2)\n",
    "\n",
    "# element = d.find_element(\"xpath\",shoppingmall_review)\n",
    "# d.execute_script(\"arguments[0].click();\", element)\n",
    "# sleep(2)\n",
    "\n",
    "\n",
    "\n",
    "test_Text = d.find_element(\"xpath\",shoppingmall_review).text\n",
    "print(test_Text)\n",
    "\n",
    "df = pd.DataFrame()\n",
    "\n",
    "test_Text = d.find_element(\"xpath\", '/html/body/div/div/div[2]/div[2]/div[2]/div[3]/div[6]/div[2]/div[2]/div/ul').text\n",
    "df = test_Text\n",
    "print(df)"
   ]
  },
  {
   "cell_type": "code",
   "execution_count": 9,
   "metadata": {},
   "outputs": [],
   "source": [
    "# 데이터프레임으로 만들기\n",
    "a = df.split('\\n')\n",
    "b = pd.DataFrame(a, columns=['이름']).set_index('이름')"
   ]
  },
  {
   "cell_type": "code",
   "execution_count": null,
   "metadata": {},
   "outputs": [],
   "source": [
    "b.to_csv('./b.csv', encoding='utf-8-sig')"
   ]
  }
 ],
 "metadata": {
  "kernelspec": {
   "display_name": "base",
   "language": "python",
   "name": "python3"
  },
  "language_info": {
   "codemirror_mode": {
    "name": "ipython",
    "version": 3
   },
   "file_extension": ".py",
   "mimetype": "text/x-python",
   "name": "python",
   "nbconvert_exporter": "python",
   "pygments_lexer": "ipython3",
   "version": "3.9.7 (default, Sep 16 2021, 16:59:28) [MSC v.1916 64 bit (AMD64)]"
  },
  "orig_nbformat": 4,
  "vscode": {
   "interpreter": {
    "hash": "e4cce46d6be9934fbd27f9ca0432556941ea5bdf741d4f4d64c6cd7f8dfa8fba"
   }
  }
 },
 "nbformat": 4,
 "nbformat_minor": 2
}
