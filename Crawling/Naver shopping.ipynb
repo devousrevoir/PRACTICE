{
 "cells": [
  {
   "cell_type": "code",
   "execution_count": 4,
   "metadata": {},
   "outputs": [],
   "source": [
    "# 웹 크롤링을 위한 라이브러리\n",
    "## webdriver를 통해 제어\n",
    "from selenium import webdriver\n",
    "from selenium.webdriver.common.keys import Keys\n",
    "\n",
    "# python으로 웹 크롤링을 하기 위해 사용하는 도구\n",
    "from bs4 import BeautifulSoup\n",
    "\n",
    "# sleep 함수를 통해 시간 조정\n",
    "from time import sleep\n",
    "\n",
    "# 전송 신호\n",
    "import requests\n",
    "import re\n",
    "\n",
    "import pandas as pd\n",
    "import numpy as np\n",
    "import os # os 시스템 제어 라이브러리 : 현재 시각을 알려주는 프로그램\n",
    "\n",
    "# 오류 메시지 뜰 때 무시\n",
    "import warnings\n",
    "warnings.filterwarnings('ignore')"
   ]
  },
  {
   "cell_type": "markdown",
   "metadata": {},
   "source": []
  },
  {
   "cell_type": "code",
   "execution_count": 5,
   "metadata": {},
   "outputs": [],
   "source": [
    "# 미리 카테고리 지정\n",
    "name=['LG 에어로타워']\n",
    "category=['별점']\n",
    "\n",
    "# LG 에어로타워 후기\n",
    "ns_address=\"https://search.shopping.naver.com/catalog/30128278618?cat_id=50002543&frm=NVSCPRO&query=%EC%97%90%EC%96%B4%EB%A1%9C%ED%83%80%EC%9B%8C&NaPm=ct%3Dl0ksn0vc%7Cci%3D5bbd25c0299ce5dbcb72ff2b1d41488ebd6d52ce%7Ctr%3Dsls%7Csn%3D95694%7Chk%3D87194ce8ced4cb2b52968022b8eb9db67602d12e\"\n",
    "\n",
    "# F12를 눌러서 사이트 정보 확인\n",
    "# 화면이 축소 되어 보일 경우 마우스 표시로 바꿔서 화면 확인하기\n",
    "\n",
    "# xpath : 크롤링 정보 확인 요소\n",
    "shoppingmall_review = \"/html/body/div/div/div[2]/div[2]/div[2]/div[3]/div[6]/div[2]/div[2]/div/ul/li[4]/a\""
   ]
  },
  {
   "cell_type": "code",
   "execution_count": 13,
   "metadata": {},
   "outputs": [
    {
     "name": "stdout",
     "output_type": "stream",
     "text": [
      "가격\n",
      "주제전체\n",
      "만족도\n",
      "디자인\n",
      "가격\n",
      "기능\n",
      "소음\n",
      "성능\n",
      "사용성\n",
      "색상\n",
      "조작성\n",
      "난방효과\n",
      "관리\n",
      "이동성\n"
     ]
    }
   ],
   "source": [
    "# 사용자의 소프트웨어 식별정보 확인\n",
    "header = {'User-Agent': ''}\n",
    "\n",
    "# webdriver = chrome\n",
    "d = webdriver.Chrome('chromedriver.exe')\n",
    "\n",
    "# 보이지는 않아도 초당 지정해서 가져오는 중 : time error\n",
    "d.implicitly_wait(1)\n",
    "\n",
    "# 위에서 지정한 주소 가져오기\n",
    "d.get(ns_address)\n",
    "\n",
    "req = requests.get(ns_address,verify=False) # verify=False : 서버가 요청을 제대로 처리했다\n",
    "html = req.text # 문서화 작업\n",
    "soup = BeautifulSoup(html, \"html.parser\") # \"html.parser\" : 는 절대 바꾸면 안 된다\n",
    "sleep(2)\n",
    "\n",
    "# 쇼핑몰 리뷰 확인\n",
    "d.find_element(\"xpath\", shoppingmall_review).click()\n",
    "sleep(2)\n",
    "\n",
    "# element = d.find_element(\"xpath\",shoppingmall_review)\n",
    "# d.execute_script(\"arguments[0].click();\", element)\n",
    "# sleep(2)\n",
    "\n",
    "# 리뷰 중 가격 카테고리만 가져오기\n",
    "test_Text = d.find_element(\"xpath\",shoppingmall_review).text\n",
    "print(test_Text)\n",
    "\n",
    "df = pd.DataFrame()\n",
    "\n",
    "# 리뷰 모든 카테고리 가져오기\n",
    "test_Text = d.find_element(\"xpath\", '/html/body/div/div/div[2]/div[2]/div[2]/div[3]/div[6]/div[2]/div[2]/div/ul').text\n",
    "\n",
    "df = test_Text\n",
    "print(df)"
   ]
  },
  {
   "cell_type": "code",
   "execution_count": 16,
   "metadata": {},
   "outputs": [
    {
     "name": "stdout",
     "output_type": "stream",
     "text": [
      "Empty DataFrame\n",
      "Columns: []\n",
      "Index: [주제전체, 만족도, 디자인, 가격, 기능, 소음, 성능, 사용성, 색상, 조작성, 난방효과, 관리, 이동성]\n"
     ]
    }
   ],
   "source": [
    "# 데이터프레임으로 만들기\n",
    "a = df.split('\\n')\n",
    "b = pd.DataFrame(a, columns=['이름']).set_index('이름')\n",
    "print(b)"
   ]
  },
  {
   "cell_type": "code",
   "execution_count": 15,
   "metadata": {},
   "outputs": [],
   "source": [
    "# 파일 저장\n",
    "b.to_csv('./b.csv', encoding='utf-8-sig') # 현 디렉토리 내에 저장 //  ../(지난 디렉토리) ./(현 디렉토리) /(다음 디렉토리)"
   ]
  }
 ],
 "metadata": {
  "kernelspec": {
   "display_name": "base",
   "language": "python",
   "name": "python3"
  },
  "language_info": {
   "codemirror_mode": {
    "name": "ipython",
    "version": 3
   },
   "file_extension": ".py",
   "mimetype": "text/x-python",
   "name": "python",
   "nbconvert_exporter": "python",
   "pygments_lexer": "ipython3",
   "version": "3.9.7 (default, Sep 16 2021, 16:59:28) [MSC v.1916 64 bit (AMD64)]"
  },
  "orig_nbformat": 4,
  "vscode": {
   "interpreter": {
    "hash": "e4cce46d6be9934fbd27f9ca0432556941ea5bdf741d4f4d64c6cd7f8dfa8fba"
   }
  }
 },
 "nbformat": 4,
 "nbformat_minor": 2
}
